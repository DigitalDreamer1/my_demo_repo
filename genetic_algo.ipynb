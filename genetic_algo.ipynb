{
 "cells": [
  {
   "cell_type": "code",
   "execution_count": 71,
   "id": "5581de04-2234-495a-80ab-8f2b098a9046",
   "metadata": {},
   "outputs": [],
   "source": [
    "import random\n",
    "import numpy as np "
   ]
  },
  {
   "cell_type": "code",
   "execution_count": 17,
   "id": "6b077686-183f-439f-95c4-b34edcf47d8e",
   "metadata": {},
   "outputs": [],
   "source": [
    "def init_pop(n):\n",
    "    pop = []\n",
    "    for j in range(n):\n",
    "        ch = [] \n",
    "        for i in range(8):\n",
    "            ch.append(random.randint(0,1))\n",
    "        pop.append(ch)\n",
    "    return pop"
   ]
  },
  {
   "cell_type": "code",
   "execution_count": 35,
   "id": "eff3690e-0dcc-47d9-b37a-1b63f79e8ddc",
   "metadata": {},
   "outputs": [],
   "source": [
    "def binarylist_to_decimal(lst):\n",
    "    power=0\n",
    "    nb=0\n",
    "    for i in range(len(lst)-1,0-1,-1):\n",
    "        nb+=lst[i]*(2**power)\n",
    "        power+=1\n",
    "    return nb"
   ]
  },
  {
   "cell_type": "code",
   "execution_count": 68,
   "id": "ce0e9499-7f0b-4dd9-a6bf-bdd1bc0b3311",
   "metadata": {},
   "outputs": [],
   "source": [
    "def fitness(arr):\n",
    "     n = binarylist_to_decimal(arr) \n",
    "     val = n * n \n",
    "     return round((val/65025) * 100,3)  "
   ]
  },
  {
   "cell_type": "code",
   "execution_count": 72,
   "id": "f911086c-d25a-4e40-8dda-94f59d8a77f5",
   "metadata": {},
   "outputs": [],
   "source": [
    "def cumulative_sum(array):\n",
    "    cumulative_result = np.cumsum(array)\n",
    "    return cumulative_result"
   ]
  },
  {
   "cell_type": "code",
   "execution_count": 73,
   "id": "813335df-0342-4e5b-bb67-d8bda6d877c0",
   "metadata": {},
   "outputs": [
    {
     "name": "stdout",
     "output_type": "stream",
     "text": [
      "[7.111, 13.879, 60.901, 10.851, 25.196, 28.444, 64.0, 9.598, 14.77, 32.781]\n",
      "[0.027, 0.052, 0.228, 0.041, 0.094, 0.106, 0.239, 0.036, 0.055, 0.123]\n",
      "[0.027 0.079 0.307 0.348 0.442 0.548 0.787 0.823 0.878 1.001]\n"
     ]
    }
   ],
   "source": [
    "pop = init_pop(10) \n",
    "fit = []\n",
    "fitness_ration = [] \n",
    "cum_f_ration = [] \n",
    "for ch in pop:\n",
    "    fit.append(fitness(ch))  \n",
    "sum_fit = sum(fit)\n",
    "for f in fit:\n",
    "    fitness_ration.append(round((f/sum_fit),3)) \n",
    "cum_f_ration = cumulative_sum(fitness_ration)\n",
    "    \n",
    "print(fit)\n",
    "print(fitness_ration) \n",
    "print(cum_f_ration) \n"
   ]
  },
  {
   "cell_type": "code",
   "execution_count": null,
   "id": "11dd738d-2013-426b-864c-a3a18058d102",
   "metadata": {},
   "outputs": [],
   "source": []
  },
  {
   "cell_type": "code",
   "execution_count": null,
   "id": "923ede19-6a95-4673-bb2f-f02664d29e3d",
   "metadata": {},
   "outputs": [],
   "source": []
  }
 ],
 "metadata": {
  "kernelspec": {
   "display_name": "Python 3 (ipykernel)",
   "language": "python",
   "name": "python3"
  },
  "language_info": {
   "codemirror_mode": {
    "name": "ipython",
    "version": 3
   },
   "file_extension": ".py",
   "mimetype": "text/x-python",
   "name": "python",
   "nbconvert_exporter": "python",
   "pygments_lexer": "ipython3",
   "version": "3.12.0"
  }
 },
 "nbformat": 4,
 "nbformat_minor": 5
}
